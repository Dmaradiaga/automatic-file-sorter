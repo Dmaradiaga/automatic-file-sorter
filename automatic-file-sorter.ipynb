{
 "cells": [
  {
   "cell_type": "code",
   "execution_count": 39,
   "id": "c3c119a8-54e0-4c1a-801c-99996bf96e3e",
   "metadata": {
    "tags": []
   },
   "outputs": [],
   "source": [
    "import os\n",
    "import shutil"
   ]
  },
  {
   "cell_type": "code",
   "execution_count": 40,
   "id": "7a096149-e51d-4928-876e-38dae118580c",
   "metadata": {
    "tags": []
   },
   "outputs": [
    {
     "data": {
      "text/plain": [
       "['.ipynb_checkpoints',\n",
       " 'bmi-calculator',\n",
       " 'text-folder',\n",
       " 'png-folder',\n",
       " 'csv-folder',\n",
       " 'automatic-file-sorter.ipynb',\n",
       " 'file.csv',\n",
       " 'ipynb-folder',\n",
       " 'images-folder',\n",
       " '-folder',\n",
       " 'txt-folder']"
      ]
     },
     "execution_count": 40,
     "metadata": {},
     "output_type": "execute_result"
    }
   ],
   "source": [
    "os.listdir('.') #current path"
   ]
  },
  {
   "cell_type": "code",
   "execution_count": 41,
   "id": "63eb3a1b-27cc-4184-8a1c-2ea2e6f292ea",
   "metadata": {
    "tags": []
   },
   "outputs": [
    {
     "data": {
      "text/plain": [
       "False"
      ]
     },
     "execution_count": 41,
     "metadata": {},
     "output_type": "execute_result"
    }
   ],
   "source": [
    "os.path.exists('./'+'python-files') # check folder"
   ]
  },
  {
   "cell_type": "code",
   "execution_count": 42,
   "id": "ff6305b9-2c0d-4454-a350-c92a22a5705c",
   "metadata": {
    "tags": []
   },
   "outputs": [
    {
     "name": "stdout",
     "output_type": "stream",
     "text": [
      "el folder: .ipynb_checkpoints\n",
      "el folder: bmi-calculator\n",
      "el folder: text-folder\n",
      "el folder: png-folder\n",
      "el folder: csv-folder\n",
      "el folder: automatic-file-sorter.ipynb\n",
      "el folder: file.csv\n",
      "el folder: ipynb-folder\n",
      "el folder: images-folder\n",
      "el folder: -folder\n",
      "el folder: txt-folder\n"
     ]
    }
   ],
   "source": [
    "#folders_name = ['folder1','folder2','folder3','hello.py']\n",
    "folders_path = os.listdir('.')\n",
    "for folder in folders_path:\n",
    "    if os.path.exists('./'+folder):\n",
    "        print('el folder: {0}'.format(folder))\n",
    "    else:\n",
    "        print('No existe')"
   ]
  },
  {
   "cell_type": "code",
   "execution_count": 76,
   "id": "7b6a6a92-019d-425d-a733-02544a690253",
   "metadata": {
    "tags": []
   },
   "outputs": [],
   "source": [
    "def createDir(extension, file_name):\n",
    "    if not os.path.isdir('./'+file_name):\n",
    "        os.makedirs('./'+extension[1:]+'-folder')\n",
    "        moveFile(file_name, extension)"
   ]
  },
  {
   "cell_type": "code",
   "execution_count": 77,
   "id": "c3f65120-520a-44df-a415-5cc4043eaa4a",
   "metadata": {
    "tags": []
   },
   "outputs": [],
   "source": [
    "def moveFile(file_name, extension):\n",
    "    shutil.move('./'+file_name,'./'+extension[1:]+'-folder')"
   ]
  },
  {
   "cell_type": "code",
   "execution_count": 82,
   "id": "ebd52343-0fa9-4298-8e52-e777f5972301",
   "metadata": {
    "tags": []
   },
   "outputs": [],
   "source": [
    "def createDirsMoveFiles(list_files):\n",
    "    for file_name in list_files:\n",
    "        _, extension = os.path.splitext(file_name)\n",
    "        if not os.path.exists('./'+extension[1:]+'-folder'):\n",
    "            createDir(extension, file_name)\n",
    "  "
   ]
  },
  {
   "cell_type": "code",
   "execution_count": 85,
   "id": "c5a7e719-b033-45fb-b9c5-f559c04172cb",
   "metadata": {
    "tags": []
   },
   "outputs": [],
   "source": [
    "files = os.listdir('./')\n",
    "createDirsMoveFiles(files)"
   ]
  },
  {
   "cell_type": "code",
   "execution_count": 84,
   "id": "4e18dd3c-97d8-4c57-ac45-b1eb6f5dbf16",
   "metadata": {
    "tags": []
   },
   "outputs": [
    {
     "data": {
      "text/plain": [
       "['.ipynb_checkpoints',\n",
       " 'bmi-calculator',\n",
       " 'png-folder',\n",
       " 'csv-folder',\n",
       " 'automatic-file-sorter.ipynb',\n",
       " 'ipynb-folder',\n",
       " 'txt-folder']"
      ]
     },
     "execution_count": 84,
     "metadata": {},
     "output_type": "execute_result"
    }
   ],
   "source": [
    "files"
   ]
  },
  {
   "cell_type": "code",
   "execution_count": null,
   "id": "9d74bf9c-8ef7-4b77-8584-050e6656c844",
   "metadata": {},
   "outputs": [],
   "source": []
  }
 ],
 "metadata": {
  "kernelspec": {
   "display_name": "Python 3 (ipykernel)",
   "language": "python",
   "name": "python3"
  },
  "language_info": {
   "codemirror_mode": {
    "name": "ipython",
    "version": 3
   },
   "file_extension": ".py",
   "mimetype": "text/x-python",
   "name": "python",
   "nbconvert_exporter": "python",
   "pygments_lexer": "ipython3",
   "version": "3.11.3"
  }
 },
 "nbformat": 4,
 "nbformat_minor": 5
}
